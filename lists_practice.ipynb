{
 "cells": [
  {
   "cell_type": "code",
   "execution_count": 4,
   "metadata": {},
   "outputs": [
    {
     "name": "stdout",
     "output_type": "stream",
     "text": [
      "['IRENE', 'SEULGI', 'WENDY', 'JOY', 'YERI']\n"
     ]
    }
   ],
   "source": [
    "#printing lists\n",
    "\n",
    "thisis_redvelvet = [\"IRENE\", \"SEULGI\", \"WENDY\", \"JOY\", \"YERI\"]\n",
    "print(thisis_redvelvet)"
   ]
  },
  {
   "cell_type": "code",
   "execution_count": 6,
   "metadata": {},
   "outputs": [
    {
     "name": "stdout",
     "output_type": "stream",
     "text": [
      "['IRENE', 'SEULGI', 'WENDT', 'JOY', 'YERI', 'REVELUV']\n"
     ]
    }
   ],
   "source": [
    "#adding lists item\n",
    "\n",
    "thisis_redvelvet = [\"IRENE\", \"SEULGI\", \"WENDT\", \"JOY\", \"YERI\"]\n",
    "thisis_redvelvet.append(\"REVELUV\")\n",
    "print(thisis_redvelvet)"
   ]
  },
  {
   "cell_type": "code",
   "execution_count": 11,
   "metadata": {},
   "outputs": [
    {
     "name": "stdout",
     "output_type": "stream",
     "text": [
      "['IRENE', 'SEULGI', 'WENDY', 'JOY', 'YERI', 'ReVe', 'REVELUV']\n"
     ]
    }
   ],
   "source": [
    "#changing lists item\n",
    "\n",
    "thisis_redvelvet = [\"IRENE\", \"SEULGI\", \"WENDY\", \"JOY\", \"YERI\", \"REVELUV\"]\n",
    "thisis_redvelvet.insert(5, \"ReVe\")\n",
    "print(thisis_redvelvet)"
   ]
  },
  {
   "cell_type": "code",
   "execution_count": 14,
   "metadata": {},
   "outputs": [
    {
     "name": "stdout",
     "output_type": "stream",
     "text": [
      "['IRENE', 'SEULGI', 'WENDY', 'JOY', 'YERI']\n"
     ]
    }
   ],
   "source": [
    "#removing list items\n",
    "\n",
    "thisis_redvelvet = [\"IRENE\", \"SEULGI\", \"WENDY\", \"JOY\", \"YERI\", \"ReVe\", \"REVELUV\"]\n",
    "thisis_redvelvet.remove(\"ReVe\")\n",
    "thisis_redvelvet.remove(\"REVELUV\")\n",
    "print(thisis_redvelvet)"
   ]
  },
  {
   "cell_type": "code",
   "execution_count": 19,
   "metadata": {},
   "outputs": [
    {
     "name": "stdout",
     "output_type": "stream",
     "text": [
      "['RENJUN', 'JENO', 'JAEMIN', 'CHENLE', 'JISUNG']\n"
     ]
    }
   ],
   "source": [
    "#removing specified index in list\n",
    "\n",
    "#nct dream is a 7 membered boy group, MARK & HAECHAN will not be included due to activities in another unit\n",
    "thisis_nctdream_ot5 = [\"MARK\", \"RENJUN\", \"JENO\", \"HAECHAN\", \"JAEMIN\", \"CHENLE\", \"JISUNG\"]\n",
    "thisis_nctdream_ot5.pop(0) #MARK\n",
    "thisis_nctdream_ot5.pop(2) #RENJUN will be the index 0, JENO = 1, HAECHAN will be the 2nd index\n",
    "print(thisis_nctdream_ot5)"
   ]
  },
  {
   "cell_type": "code",
   "execution_count": 23,
   "metadata": {},
   "outputs": [
    {
     "name": "stdout",
     "output_type": "stream",
     "text": [
      "MARK\n",
      "RENJUN\n",
      "JENO\n",
      "HAECHAN\n",
      "JAEMIN\n",
      "CHENLE\n",
      "JISUNG\n"
     ]
    }
   ],
   "source": [
    "#loop through a list\n",
    "\n",
    "thisis_nctdream = [\"MARK\", \"RENJUN\", \"JENO\", \"HAECHAN\", \"JAEMIN\", \"CHENLE\", \"JISUNG\"]\n",
    "for x in thisis_nctdream:\n",
    "    print(x)"
   ]
  },
  {
   "cell_type": "code",
   "execution_count": 29,
   "metadata": {},
   "outputs": [
    {
     "name": "stdout",
     "output_type": "stream",
     "text": [
      "MARK\n",
      "MARK\n",
      "MARK\n",
      "MARK\n",
      "MARK\n",
      "MARK\n",
      "MARK\n"
     ]
    }
   ],
   "source": [
    "#loop through the index numbers\n",
    "\n",
    "thisis_nctdream = [\"MARK\", \"RENJUN\", \"JENO\", \"HAECHAN\", \"JAEMIN\", \"CHENLE\", \"JISUNG\"]\n",
    "for i in range (len(thisis_nctdream)):\n",
    "    print(thisis_nctdream[0])"
   ]
  },
  {
   "cell_type": "code",
   "execution_count": 3,
   "metadata": {},
   "outputs": [
    {
     "name": "stdout",
     "output_type": "stream",
     "text": [
      "['MARK', 'RENJUN', 'JENO', 'HAECHAN', 'JAEMIN', 'CHENLE', 'JISUNG']\n",
      "['MARK', 'RENJUN', 'JENO', 'HAECHAN', 'JAEMIN', 'CHENLE', 'JISUNG']\n",
      "['MARK', 'RENJUN', 'JENO', 'HAECHAN', 'JAEMIN', 'CHENLE', 'JISUNG']\n",
      "['MARK', 'RENJUN', 'JENO', 'HAECHAN', 'JAEMIN', 'CHENLE', 'JISUNG']\n",
      "['MARK', 'RENJUN', 'JENO', 'HAECHAN', 'JAEMIN', 'CHENLE', 'JISUNG']\n",
      "['MARK', 'RENJUN', 'JENO', 'HAECHAN', 'JAEMIN', 'CHENLE', 'JISUNG']\n",
      "['MARK', 'RENJUN', 'JENO', 'HAECHAN', 'JAEMIN', 'CHENLE', 'JISUNG']\n"
     ]
    }
   ],
   "source": [
    "#while loop\n",
    "\n",
    "thisis_nctdream = [\"MARK\", \"RENJUN\", \"JENO\", \"HAECHAN\", \"JAEMIN\", \"CHENLE\", \"JISUNG\"]\n",
    "i = 0\n",
    "while i < len(thisis_nctdream):\n",
    "    print(thisis_nctdream)\n",
    "    i = i + 1"
   ]
  },
  {
   "cell_type": "code",
   "execution_count": 4,
   "metadata": {},
   "outputs": [
    {
     "name": "stdout",
     "output_type": "stream",
     "text": [
      "MARK\n",
      "RENJUN\n",
      "JENO\n",
      "HAECHAN\n",
      "JAEMIN\n",
      "CHENLE\n",
      "JISUNG\n"
     ]
    },
    {
     "data": {
      "text/plain": [
       "[None, None, None, None, None, None, None]"
      ]
     },
     "execution_count": 4,
     "metadata": {},
     "output_type": "execute_result"
    }
   ],
   "source": [
    "#short hand for loop\n",
    "\n",
    "thisis_nctdream = [\"MARK\", \"RENJUN\", \"JENO\", \"HAECHAN\", \"JAEMIN\", \"CHENLE\", \"JISUNG\"]\n",
    "[print(x) for x in thisis_nctdream]"
   ]
  },
  {
   "cell_type": "code",
   "execution_count": 8,
   "metadata": {},
   "outputs": [
    {
     "name": "stdout",
     "output_type": "stream",
     "text": [
      "['MARK', 'HAECHAN', 'JAEMIN']\n"
     ]
    }
   ],
   "source": [
    "#list comprehension\n",
    "\n",
    "thisis_nctdream = [\"MARK\", \"RENJUN\", \"JENO\", \"HAECHAN\", \"JAEMIN\", \"CHENLE\", \"JISUNG\"]\n",
    "thisis_nctU = []\n",
    "\n",
    "for x in thisis_nctdream:\n",
    "    if \"A\" in x:\n",
    "        thisis_nctU.append(x)\n",
    "\n",
    "print(thisis_nctU)"
   ]
  },
  {
   "cell_type": "code",
   "execution_count": 9,
   "metadata": {},
   "outputs": [
    {
     "name": "stdout",
     "output_type": "stream",
     "text": [
      "['IRENE', 'JOY', 'SEULGI', 'WENDY', 'YERI']\n"
     ]
    }
   ],
   "source": [
    "#sorting list\n",
    "\n",
    "thisis_redvelvet = [\"IRENE\", \"SEULGI\", \"WENDY\", \"JOY\", \"YERI\"]\n",
    "thisis_redvelvet.sort()\n",
    "print(thisis_redvelvet)"
   ]
  },
  {
   "cell_type": "code",
   "execution_count": 10,
   "metadata": {},
   "outputs": [
    {
     "name": "stdout",
     "output_type": "stream",
     "text": [
      "['RENJUN', 'MARK', 'JISUNG', 'JENO', 'JAEMIN', 'HAECHAN', 'CHENLE']\n"
     ]
    }
   ],
   "source": [
    "#sorting list reverse ver.\n",
    "\n",
    "thisis_nctdream = [\"MARK\", \"RENJUN\", \"JENO\", \"HAECHAN\", \"JAEMIN\", \"CHENLE\", \"JISUNG\"]\n",
    "thisis_nctdream.sort(reverse = True)\n",
    "print(thisis_nctdream)"
   ]
  },
  {
   "cell_type": "code",
   "execution_count": 22,
   "metadata": {},
   "outputs": [
    {
     "name": "stdout",
     "output_type": "stream",
     "text": [
      "['TAEIL', 'JOHNNY', 'TAEYONG', 'YUTA', 'DOYOUNG', 'JAEHYUN', 'JUNGWOO', 'MARK', 'HAECHAN', 'MARK', 'RENJUN', 'JENO', 'HAECHAN', 'JAEMIN', 'CHENLE', 'JISUNG', 'KUN', 'TEN', 'WINWIN', 'LUCAS', 'XIAOJUN', 'HENDERY', 'YANGTANG', 'SHOTARO', 'SUNGCHAN']\n"
     ]
    }
   ],
   "source": [
    "#joining list\n",
    "\n",
    "thisis_nct127 = [\"TAEIL\", \"JOHNNY\", \"TAEYONG\", \"YUTA\", \"DOYOUNG\", \"JAEHYUN\", \"JUNGWOO\", \"MARK\", \"HAECHAN\"]\n",
    "thisis_nctdream = [\"MARK\", \"RENJUN\", \"JENO\", \"HAECHAN\", \"JAEMIN\", \"CHENLE\", \"JISUNG\"]\n",
    "thisis_wayv = [\"KUN\", \"TEN\", \"WINWIN\", \"LUCAS\", \"XIAOJUN\", \"HENDERY\", \"YANGTANG\"]\n",
    "thisis_nctU = [\"SHOTARO\", \"SUNGCHAN\"]\n",
    "thisis_nct = thisis_nct127 + thisis_nctdream + thisis_wayv + thisis_nctU\n",
    "\n",
    "print(thisis_nct)"
   ]
  }
 ],
 "metadata": {
  "kernelspec": {
   "display_name": "Python 3.10.7 64-bit",
   "language": "python",
   "name": "python3"
  },
  "language_info": {
   "codemirror_mode": {
    "name": "ipython",
    "version": 3
   },
   "file_extension": ".py",
   "mimetype": "text/x-python",
   "name": "python",
   "nbconvert_exporter": "python",
   "pygments_lexer": "ipython3",
   "version": "3.10.7"
  },
  "orig_nbformat": 4,
  "vscode": {
   "interpreter": {
    "hash": "58837b1b657ea91009af8409fc244ae3b5ccf93ea980d6fb6b80adc5f697f4cc"
   }
  }
 },
 "nbformat": 4,
 "nbformat_minor": 2
}
