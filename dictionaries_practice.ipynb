{
 "cells": [
  {
   "cell_type": "code",
   "execution_count": 1,
   "metadata": {},
   "outputs": [
    {
     "name": "stdout",
     "output_type": "stream",
     "text": [
      "{'leader': 'IRENE', 'dancer': 'SEULGI', 'vocalist': 'WENDY', 'actress': 'JOY', 'maknae': 'YERI'}\n"
     ]
    }
   ],
   "source": [
    "#dictionaries\n",
    "\n",
    "thisis_redvelvet = {\n",
    "    \"leader\": \"IRENE\",\n",
    "    \"dancer\": \"SEULGI\",\n",
    "    \"vocalist\": \"WENDY\",\n",
    "    \"actress\": \"JOY\",\n",
    "    \"maknae\": \"YERI\"\n",
    "}\n",
    "\n",
    "print(thisis_redvelvet)"
   ]
  },
  {
   "cell_type": "code",
   "execution_count": 1,
   "metadata": {},
   "outputs": [
    {
     "name": "stdout",
     "output_type": "stream",
     "text": [
      "WENDY\n"
     ]
    }
   ],
   "source": [
    "thisis_redvelvet = {\n",
    "    \"leader\": \"IRENE\",\n",
    "    \"dancer\": \"SEULGI\",\n",
    "    \"vocalist\": \"WENDY\",\n",
    "    \"actress\": \"JOY\",\n",
    "    \"maknae\": \"YERI\"\n",
    "}\n",
    "\n",
    "print(thisis_redvelvet[\"vocalist\"])"
   ]
  },
  {
   "cell_type": "code",
   "execution_count": 3,
   "metadata": {},
   "outputs": [
    {
     "name": "stdout",
     "output_type": "stream",
     "text": [
      "IRENE\n"
     ]
    }
   ],
   "source": [
    "thisis_redvelvet = {\n",
    "    \"leader\": \"IRENE\",\n",
    "    \"dancer\": \"SEULGI\",\n",
    "    \"vocalist\": \"WENDY\",\n",
    "    \"actress\": \"JOY\",\n",
    "    \"maknae\": \"YERI\"\n",
    "}\n",
    "\n",
    "x = thisis_redvelvet[\"leader\"]\n",
    "print(x)"
   ]
  },
  {
   "cell_type": "code",
   "execution_count": 5,
   "metadata": {},
   "outputs": [
    {
     "name": "stdout",
     "output_type": "stream",
     "text": [
      "dict_keys(['leader', 'dancer', 'vocalist', 'actress', 'maknae'])\n"
     ]
    }
   ],
   "source": [
    "thisis_redvelvet = {\n",
    "    \"leader\": \"IRENE\",\n",
    "    \"dancer\": \"SEULGI\",\n",
    "    \"vocalist\": \"WENDY\",\n",
    "    \"actress\": \"JOY\",\n",
    "    \"maknae\": \"YERI\"\n",
    "}\n",
    "\n",
    "x = thisis_redvelvet.keys()\n",
    "print(x)"
   ]
  },
  {
   "cell_type": "code",
   "execution_count": 7,
   "metadata": {},
   "outputs": [
    {
     "name": "stdout",
     "output_type": "stream",
     "text": [
      "dict_keys(['leader', 'dancer', 'vocalist', 'actress', 'maknae', 'fandom'])\n"
     ]
    }
   ],
   "source": [
    "#keys function\n",
    "\n",
    "thisis_redvelvet = {\n",
    "    \"leader\": \"IRENE\",\n",
    "    \"dancer\": \"SEULGI\",\n",
    "    \"vocalist\": \"WENDY\",\n",
    "    \"actress\": \"JOY\",\n",
    "    \"maknae\": \"YERI\"\n",
    "}\n",
    "\n",
    "thisis_redvelvet[\"fandom\"] = \"REVELUV\"\n",
    "print(x)"
   ]
  },
  {
   "cell_type": "code",
   "execution_count": 12,
   "metadata": {},
   "outputs": [
    {
     "name": "stdout",
     "output_type": "stream",
     "text": [
      "CONTRACT TERMINATED!\n"
     ]
    }
   ],
   "source": [
    "thisis_le_sserafim = {\n",
    "    \"member1\": \"SAKURA\",\n",
    "    \"leader\": \"CHAEWON\",\n",
    "    \"member2\": \"HYUNJIN\",\n",
    "    \"member3\": \"KAZUHA\",\n",
    "    \"member4\": \"GARAM\",\n",
    "    \"member5\": \"EUNCHAE\"\n",
    "}\n",
    "\n",
    "thisis_le_sserafim[\"member4\"] = \"CONTRACT TERMINATED!\"\n",
    "print(thisis_le_sserafim[\"member4\"])"
   ]
  },
  {
   "cell_type": "code",
   "execution_count": 13,
   "metadata": {},
   "outputs": [
    {
     "name": "stdout",
     "output_type": "stream",
     "text": [
      "CONTRACT TERMINATED!\n"
     ]
    }
   ],
   "source": [
    "thisis_le_sserafim = {\n",
    "    \"member1\": \"SAKURA\",\n",
    "    \"leader\": \"CHAEWON\",\n",
    "    \"member2\": \"HYUNJIN\",\n",
    "    \"member3\": \"KAZUHA\",\n",
    "    \"member4\": \"GARAM\",\n",
    "    \"member5\": \"EUNCHAE\"\n",
    "}\n",
    "\n",
    "thisis_le_sserafim.update({\"member4\": \"CONTRACT TERMINATED!\"})\n",
    "print(thisis_le_sserafim[\"member4\"])"
   ]
  },
  {
   "cell_type": "code",
   "execution_count": 14,
   "metadata": {},
   "outputs": [
    {
     "name": "stdout",
     "output_type": "stream",
     "text": [
      "{'leader': 'IRENE', 'dancer': 'SEULGI', 'vocalist': 'WENDY', 'actress': 'JOY', 'maknae': 'YERI', 'fandom': 'REVELUV'}\n"
     ]
    }
   ],
   "source": [
    "#adding an item\n",
    "\n",
    "thisis_redvelvet = {\n",
    "    \"leader\": \"IRENE\",\n",
    "    \"dancer\": \"SEULGI\",\n",
    "    \"vocalist\": \"WENDY\",\n",
    "    \"actress\": \"JOY\",\n",
    "    \"maknae\": \"YERI\"\n",
    "}\n",
    "\n",
    "thisis_redvelvet[\"fandom\"] = \"REVELUV\"\n",
    "print(thisis_redvelvet)"
   ]
  },
  {
   "cell_type": "code",
   "execution_count": 15,
   "metadata": {},
   "outputs": [
    {
     "name": "stdout",
     "output_type": "stream",
     "text": [
      "{'member1': 'SAKURA', 'leader': 'CHAEWON', 'member2': 'HYUNJIN', 'member3': 'KAZUHA', 'member5': 'EUNCHAE'}\n"
     ]
    }
   ],
   "source": [
    "thisis_le_sserafim = {\n",
    "    \"member1\": \"SAKURA\",\n",
    "    \"leader\": \"CHAEWON\",\n",
    "    \"member2\": \"HYUNJIN\",\n",
    "    \"member3\": \"KAZUHA\",\n",
    "    \"member4\": \"GARAM\",\n",
    "    \"member5\": \"EUNCHAE\"\n",
    "}\n",
    "\n",
    "thisis_le_sserafim.pop(\"member4\")\n",
    "print(thisis_le_sserafim)"
   ]
  },
  {
   "cell_type": "code",
   "execution_count": 16,
   "metadata": {},
   "outputs": [
    {
     "name": "stdout",
     "output_type": "stream",
     "text": [
      "{'member1': 'SAKURA', 'leader': 'CHAEWON', 'member2': 'HYUNJIN', 'member3': 'KAZUHA', 'member5': 'EUNCHAE'}\n"
     ]
    }
   ],
   "source": [
    "thisis_le_sserafim = {\n",
    "    \"member1\": \"SAKURA\",\n",
    "    \"leader\": \"CHAEWON\",\n",
    "    \"member2\": \"HYUNJIN\",\n",
    "    \"member3\": \"KAZUHA\",\n",
    "    \"member4\": \"GARAM\",\n",
    "    \"member5\": \"EUNCHAE\"\n",
    "}\n",
    "\n",
    "del thisis_le_sserafim[\"member4\"]\n",
    "print(thisis_le_sserafim)"
   ]
  },
  {
   "cell_type": "code",
   "execution_count": 17,
   "metadata": {},
   "outputs": [
    {
     "name": "stdout",
     "output_type": "stream",
     "text": [
      "{}\n"
     ]
    }
   ],
   "source": [
    "thisis_le_sserafim = {\n",
    "    \"member1\": \"SAKURA\",\n",
    "    \"leader\": \"CHAEWON\",\n",
    "    \"member2\": \"HYUNJIN\",\n",
    "    \"member3\": \"KAZUHA\",\n",
    "    \"member4\": \"GARAM\",\n",
    "    \"member5\": \"EUNCHAE\"\n",
    "}\n",
    "\n",
    "thisis_le_sserafim.clear()\n",
    "print(thisis_le_sserafim)"
   ]
  },
  {
   "cell_type": "code",
   "execution_count": 18,
   "metadata": {},
   "outputs": [
    {
     "name": "stdout",
     "output_type": "stream",
     "text": [
      "leader\n",
      "dancer\n",
      "vocalist\n",
      "actress\n",
      "maknae\n"
     ]
    }
   ],
   "source": [
    "thisis_redvelvet = {\n",
    "    \"leader\": \"IRENE\",\n",
    "    \"dancer\": \"SEULGI\",\n",
    "    \"vocalist\": \"WENDY\",\n",
    "    \"actress\": \"JOY\",\n",
    "    \"maknae\": \"YERI\"\n",
    "}\n",
    "\n",
    "for x in thisis_redvelvet:\n",
    "    print(x)"
   ]
  },
  {
   "cell_type": "code",
   "execution_count": 19,
   "metadata": {},
   "outputs": [
    {
     "name": "stdout",
     "output_type": "stream",
     "text": [
      "IRENE\n",
      "SEULGI\n",
      "WENDY\n",
      "JOY\n",
      "YERI\n"
     ]
    }
   ],
   "source": [
    "thisis_redvelvet = {\n",
    "    \"leader\": \"IRENE\",\n",
    "    \"dancer\": \"SEULGI\",\n",
    "    \"vocalist\": \"WENDY\",\n",
    "    \"actress\": \"JOY\",\n",
    "    \"maknae\": \"YERI\"\n",
    "}\n",
    "\n",
    "for x in thisis_redvelvet:\n",
    "    print(thisis_redvelvet[x])"
   ]
  },
  {
   "cell_type": "code",
   "execution_count": 20,
   "metadata": {},
   "outputs": [
    {
     "name": "stdout",
     "output_type": "stream",
     "text": [
      "IRENE\n",
      "SEULGI\n",
      "WENDY\n",
      "JOY\n",
      "YERI\n"
     ]
    }
   ],
   "source": [
    "thisis_redvelvet = {\n",
    "    \"leader\": \"IRENE\",\n",
    "    \"dancer\": \"SEULGI\",\n",
    "    \"vocalist\": \"WENDY\",\n",
    "    \"actress\": \"JOY\",\n",
    "    \"maknae\": \"YERI\"\n",
    "}\n",
    "\n",
    "for x in thisis_redvelvet.values():\n",
    "    print(x)"
   ]
  },
  {
   "cell_type": "code",
   "execution_count": 21,
   "metadata": {},
   "outputs": [
    {
     "name": "stdout",
     "output_type": "stream",
     "text": [
      "leader\n",
      "dancer\n",
      "vocalist\n",
      "actress\n",
      "maknae\n"
     ]
    }
   ],
   "source": [
    "thisis_redvelvet = {\n",
    "    \"leader\": \"IRENE\",\n",
    "    \"dancer\": \"SEULGI\",\n",
    "    \"vocalist\": \"WENDY\",\n",
    "    \"actress\": \"JOY\",\n",
    "    \"maknae\": \"YERI\"\n",
    "}\n",
    "\n",
    "for x in thisis_redvelvet.keys():\n",
    "    print(x)"
   ]
  },
  {
   "cell_type": "code",
   "execution_count": 22,
   "metadata": {},
   "outputs": [
    {
     "name": "stdout",
     "output_type": "stream",
     "text": [
      "leader IRENE\n",
      "dancer SEULGI\n",
      "vocalist WENDY\n",
      "actress JOY\n",
      "maknae YERI\n"
     ]
    }
   ],
   "source": [
    "thisis_redvelvet = {\n",
    "    \"leader\": \"IRENE\",\n",
    "    \"dancer\": \"SEULGI\",\n",
    "    \"vocalist\": \"WENDY\",\n",
    "    \"actress\": \"JOY\",\n",
    "    \"maknae\": \"YERI\"\n",
    "}\n",
    "\n",
    "for x, y in thisis_redvelvet.items():\n",
    "    print(x, y)"
   ]
  },
  {
   "cell_type": "code",
   "execution_count": 23,
   "metadata": {},
   "outputs": [
    {
     "name": "stdout",
     "output_type": "stream",
     "text": [
      "{'leader': 'IRENE', 'dancer': 'SEULGI', 'vocalist': 'WENDY', 'actress': 'JOY', 'maknae': 'YERI'}\n"
     ]
    }
   ],
   "source": [
    "thisis_redvelvet = {\n",
    "    \"leader\": \"IRENE\",\n",
    "    \"dancer\": \"SEULGI\",\n",
    "    \"vocalist\": \"WENDY\",\n",
    "    \"actress\": \"JOY\",\n",
    "    \"maknae\": \"YERI\"\n",
    "}\n",
    "\n",
    "sm_artists = thisis_redvelvet.copy()\n",
    "print(sm_artists)"
   ]
  },
  {
   "cell_type": "code",
   "execution_count": 24,
   "metadata": {},
   "outputs": [
    {
     "name": "stdout",
     "output_type": "stream",
     "text": [
      "{'leader': 'IRENE', 'dancer': 'SEULGI', 'vocalist': 'WENDY', 'actress': 'JOY', 'maknae': 'YERI'}\n"
     ]
    }
   ],
   "source": [
    "thisis_redvelvet = {\n",
    "    \"leader\": \"IRENE\",\n",
    "    \"dancer\": \"SEULGI\",\n",
    "    \"vocalist\": \"WENDY\",\n",
    "    \"actress\": \"JOY\",\n",
    "    \"maknae\": \"YERI\"\n",
    "}\n",
    "\n",
    "sm_artists = dict(thisis_redvelvet)\n",
    "print(sm_artists)"
   ]
  },
  {
   "cell_type": "code",
   "execution_count": 25,
   "metadata": {},
   "outputs": [
    {
     "name": "stdout",
     "output_type": "stream",
     "text": [
      "{'name': 'WENDY', 'position': 'MAIN VOCALIST'}\n"
     ]
    }
   ],
   "source": [
    "thisis_redvelvet = {\n",
    "    \"member1\":{\n",
    "        \"name\": \"IRENE\",\n",
    "        \"position\": \"LEADER, MAIN RAPPER, LEAD DANCER, VOCALIST, CENTER, VISUAL\"\n",
    "    },\n",
    "    \"member2\":{\n",
    "        \"name\": \"SEULGI\",\n",
    "        \"position\": \"MAIN DANCER, LEAD VOCALIST\"\n",
    "    },\n",
    "    \"member3\":{\n",
    "        \"name\": \"WENDY\",\n",
    "        \"position\": \"MAIN VOCALIST\"\n",
    "    },\n",
    "    \"member4\":{\n",
    "        \"name\": \"JOY\",\n",
    "        \"position\": \"LEAD RAPPER, VOCALIST\"\n",
    "    },\n",
    "    \"member5\":{\n",
    "        \"name\": \"YERI\",\n",
    "        \"position\": \"RAPPER, SUB-VOCALIST, MAKNAE\"\n",
    "    }\n",
    "}\n",
    "\n",
    "print(thisis_redvelvet[\"member3\"])"
   ]
  },
  {
   "cell_type": "code",
   "execution_count": 27,
   "metadata": {},
   "outputs": [
    {
     "name": "stdout",
     "output_type": "stream",
     "text": [
      "{'name': 'WENDY', 'position': 'MAIN VOCALIST'}\n"
     ]
    }
   ],
   "source": [
    "member1 = {\n",
    "    \"name\": \"IRENE\",\n",
    "    \"position\": \"LEADER, MAIN RAPPER, LEAD DANCER, VOCALIST, CENTER, VISUAL\"\n",
    "    }\n",
    "member2 = {\n",
    "    \"name\": \"SEULGI\",\n",
    "    \"position\": \"MAIN DANCER, LEAD VOCALIST\"\n",
    "    }\n",
    "member3 = {\n",
    "    \"name\": \"WENDY\",\n",
    "    \"position\": \"MAIN VOCALIST\"\n",
    "    }\n",
    "member4 = {\n",
    "    \"name\": \"JOY\",\n",
    "    \"position\": \"LEAD RAPPER, VOCALIST\"\n",
    "    },\n",
    "member5 = {\n",
    "    \"name\": \"YERI\",\n",
    "    \"position\": \"RAPPER, SUB-VOCALIST, MAKNAE\"\n",
    "    }\n",
    "thisis_redvelvet = {\n",
    "    \"member1\": member1,\n",
    "    \"member2\": member2,\n",
    "    \"member3\": member3,\n",
    "    \"member4\": member4,\n",
    "    \"member5\": member5\n",
    "}\n",
    "\n",
    "print(thisis_redvelvet[\"member3\"])\n"
   ]
  }
 ],
 "metadata": {
  "kernelspec": {
   "display_name": "Python 3.10.7 64-bit",
   "language": "python",
   "name": "python3"
  },
  "language_info": {
   "codemirror_mode": {
    "name": "ipython",
    "version": 3
   },
   "file_extension": ".py",
   "mimetype": "text/x-python",
   "name": "python",
   "nbconvert_exporter": "python",
   "pygments_lexer": "ipython3",
   "version": "3.10.7"
  },
  "orig_nbformat": 4,
  "vscode": {
   "interpreter": {
    "hash": "58837b1b657ea91009af8409fc244ae3b5ccf93ea980d6fb6b80adc5f697f4cc"
   }
  }
 },
 "nbformat": 4,
 "nbformat_minor": 2
}
