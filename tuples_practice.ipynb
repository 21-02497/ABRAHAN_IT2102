{
 "cells": [
  {
   "cell_type": "code",
   "execution_count": 1,
   "metadata": {},
   "outputs": [
    {
     "name": "stdout",
     "output_type": "stream",
     "text": [
      "('IRENE', 'SEULGI', 'WENDY', 'JOY', 'YERI')\n"
     ]
    }
   ],
   "source": [
    "#tuples\n",
    "\n",
    "thisis_redvelvet = (\"IRENE\", \"SEULGI\", \"WENDY\", \"JOY\", \"YERI\")\n",
    "print(thisis_redvelvet)"
   ]
  },
  {
   "cell_type": "code",
   "execution_count": 2,
   "metadata": {},
   "outputs": [
    {
     "name": "stdout",
     "output_type": "stream",
     "text": [
      "5\n"
     ]
    }
   ],
   "source": [
    "#know the length of tuple\n",
    "\n",
    "thisis_redvelvet = (\"IRENE\", \"SEULGI\", \"WENDY\", \"JOY\", \"YERI\")\n",
    "print(len(thisis_redvelvet))"
   ]
  },
  {
   "cell_type": "code",
   "execution_count": 3,
   "metadata": {},
   "outputs": [
    {
     "name": "stdout",
     "output_type": "stream",
     "text": [
      "WONYOUNG\n"
     ]
    }
   ],
   "source": [
    "#accessing tuple items\n",
    "\n",
    "thisis_ive = (\"GAEUL\", \"YUJIN\", \"REI\", \"WONYOUNG\", \"LIZ\", \"LEESEO\")\n",
    "print(thisis_ive[3])"
   ]
  },
  {
   "cell_type": "code",
   "execution_count": 4,
   "metadata": {},
   "outputs": [
    {
     "name": "stdout",
     "output_type": "stream",
     "text": [
      "WONYOUNG\n"
     ]
    }
   ],
   "source": [
    "#negative indexing\n",
    "\n",
    "thisis_ive = (\"GAEUL\", \"YUJIN\", \"REI\", \"WONYOUNG\", \"LIZ\", \"LEESEO\")\n",
    "print(thisis_ive[-3])"
   ]
  },
  {
   "cell_type": "code",
   "execution_count": 6,
   "metadata": {},
   "outputs": [
    {
     "name": "stdout",
     "output_type": "stream",
     "text": [
      "('REI', 'WONYOUNG', 'LIZ')\n"
     ]
    }
   ],
   "source": [
    "#rage of indexes\n",
    "\n",
    "thisis_ive = (\"GAEUL\", \"YUJIN\", \"REI\", \"WONYOUNG\", \"LIZ\", \"LEESEO\")\n",
    "print(thisis_ive[2:5])"
   ]
  },
  {
   "cell_type": "code",
   "execution_count": 7,
   "metadata": {},
   "outputs": [
    {
     "name": "stdout",
     "output_type": "stream",
     "text": [
      "('GAEUL', 'YUJIN', 'REI', 'WONYOUNG')\n"
     ]
    }
   ],
   "source": [
    "thisis_ive = (\"GAEUL\", \"YUJIN\", \"REI\", \"WONYOUNG\", \"LIZ\", \"LEESEO\")\n",
    "print(thisis_ive[:4])"
   ]
  },
  {
   "cell_type": "code",
   "execution_count": 8,
   "metadata": {},
   "outputs": [
    {
     "name": "stdout",
     "output_type": "stream",
     "text": [
      "('REI', 'WONYOUNG', 'LIZ', 'LEESEO')\n"
     ]
    }
   ],
   "source": [
    "thisis_ive = (\"GAEUL\", \"YUJIN\", \"REI\", \"WONYOUNG\", \"LIZ\", \"LEESEO\")\n",
    "print(thisis_ive[2:])"
   ]
  },
  {
   "cell_type": "code",
   "execution_count": 10,
   "metadata": {},
   "outputs": [
    {
     "name": "stdout",
     "output_type": "stream",
     "text": [
      "('YUJIN', 'REI', 'WONYOUNG', 'LIZ')\n"
     ]
    }
   ],
   "source": [
    "thisis_ive = (\"GAEUL\", \"YUJIN\", \"REI\", \"WONYOUNG\", \"LIZ\", \"LEESEO\")\n",
    "print(thisis_ive[-5:-1])"
   ]
  },
  {
   "cell_type": "code",
   "execution_count": 14,
   "metadata": {},
   "outputs": [
    {
     "name": "stdout",
     "output_type": "stream",
     "text": [
      "('TAEYONG', 'DOYOUNG', 'JAEHYUN', 'LUCAS', 'XIAOJUN', 'JAEMIN', 'SHOTARO')\n"
     ]
    }
   ],
   "source": [
    "#adding tuple values\n",
    "\n",
    "make_a_wish_unit = (\"TAEYONG\", \"DOYOUNG\", \"JAEHYUN\", \"LUCAS\", \"XIAOJUN\", \"JAEMIN\")\n",
    "addtl_member = list(make_a_wish_unit)\n",
    "addtl_member.append(\"SHOTARO\")\n",
    "make_a_wish_unit = tuple(addtl_member)\n",
    "print(make_a_wish_unit)"
   ]
  },
  {
   "cell_type": "code",
   "execution_count": 15,
   "metadata": {},
   "outputs": [
    {
     "name": "stdout",
     "output_type": "stream",
     "text": [
      "('TAEYONG', 'DOYOUNG', 'JAEHYUN', 'LUCAS', 'XIAOJUN', 'JAEMIN', 'SHOTARO')\n"
     ]
    }
   ],
   "source": [
    "make_a_wish_unit = (\"TAEYONG\", \"DOYOUNG\", \"JAEHYUN\", \"LUCAS\", \"XIAOJUN\", \"JAEMIN\")\n",
    "addtl_member = (\"SHOTARO\", )\n",
    "make_a_wish_unit += addtl_member\n",
    "\n",
    "print(make_a_wish_unit)"
   ]
  },
  {
   "cell_type": "code",
   "execution_count": 16,
   "metadata": {},
   "outputs": [
    {
     "name": "stdout",
     "output_type": "stream",
     "text": [
      "('JENO', 'DOYOUNG', 'JAEHYUN', 'LUCAS', 'XIAOJUN', 'JAEMIN')\n"
     ]
    }
   ],
   "source": [
    "#changing tuple values\n",
    "\n",
    "make_a_wish_unit = (\"TAEYONG\", \"DOYOUNG\", \"JAEHYUN\", \"LUCAS\", \"XIAOJUN\", \"JAEMIN\")\n",
    "replacement_member = list(make_a_wish_unit)\n",
    "replacement_member[0] = \"JENO\"\n",
    "make_a_wish_unit = tuple(replacement_member)\n",
    "\n",
    "print(make_a_wish_unit)"
   ]
  },
  {
   "cell_type": "code",
   "execution_count": 20,
   "metadata": {},
   "outputs": [
    {
     "name": "stdout",
     "output_type": "stream",
     "text": [
      "('JOHNNY', 'YUTA', 'TEN', 'JUNGWOO', 'HENDERY', 'JAEMIN')\n"
     ]
    }
   ],
   "source": [
    "#removing tuple values\n",
    "\n",
    "work_it_unit = (\"JOHNNY\", \"YUTA\", \"TEN\", \"JUNGWOO\", \"HENDERY\", \"JAEMIN\", \"JISUNG\")\n",
    "injured_member = list(work_it_unit)\n",
    "injured_member.remove(\"JISUNG\")\n",
    "work_it_unit = tuple(injured_member)\n",
    "\n",
    "print(work_it_unit)"
   ]
  },
  {
   "cell_type": "code",
   "execution_count": 7,
   "metadata": {},
   "outputs": [
    {
     "name": "stdout",
     "output_type": "stream",
     "text": [
      "IRENE\n",
      "SEULGI\n",
      "WENDY\n",
      "JOY\n",
      "YERI\n"
     ]
    }
   ],
   "source": [
    "#unpack tuples\n",
    "\n",
    "thisis_redvelvet = (\"IRENE\", \"SEULGI\", \"WENDY\", \"JOY\", \"YERI\")\n",
    "(leader, dancer, vocalist, actress, maknae) = thisis_redvelvet\n",
    "\n",
    "print(leader)\n",
    "print(dancer)\n",
    "print(vocalist)\n",
    "print(actress)\n",
    "print(maknae)"
   ]
  },
  {
   "cell_type": "code",
   "execution_count": 8,
   "metadata": {},
   "outputs": [
    {
     "name": "stdout",
     "output_type": "stream",
     "text": [
      "IRENE\n",
      "['SEULGI', 'WENDY']\n",
      "JOY\n",
      "YERI\n"
     ]
    }
   ],
   "source": [
    "thisis_redvelvet = (\"IRENE\", \"SEULGI\", \"WENDY\", \"JOY\", \"YERI\")\n",
    "(leader, *vocalist, actress, maknae) = thisis_redvelvet\n",
    "\n",
    "print(leader)\n",
    "print(vocalist)\n",
    "print(actress)\n",
    "print(maknae)"
   ]
  },
  {
   "cell_type": "code",
   "execution_count": 10,
   "metadata": {},
   "outputs": [
    {
     "name": "stdout",
     "output_type": "stream",
     "text": [
      "IRENE\n",
      "SEULGI\n",
      "WENDY\n",
      "JOY\n",
      "YERI\n"
     ]
    }
   ],
   "source": [
    "#Loop through index numbers\n",
    "\n",
    "thisis_redvelvet = (\"IRENE\", \"SEULGI\", \"WENDY\", \"JOY\", \"YERI\")\n",
    "for i in range(len(thisis_redvelvet)):\n",
    "  print(thisis_redvelvet[i])"
   ]
  },
  {
   "cell_type": "code",
   "execution_count": 13,
   "metadata": {},
   "outputs": [
    {
     "name": "stdout",
     "output_type": "stream",
     "text": [
      "IRENE\n",
      "SEULGI\n",
      "WENDY\n",
      "JOY\n",
      "YERI\n"
     ]
    }
   ],
   "source": [
    "#loop\n",
    "\n",
    "thisis_redvelvet = (\"IRENE\", \"SEULGI\", \"WENDY\", \"JOY\", \"YERI\")\n",
    "for x in thisis_redvelvet:\n",
    "    print(x)"
   ]
  },
  {
   "cell_type": "code",
   "execution_count": 16,
   "metadata": {},
   "outputs": [
    {
     "name": "stdout",
     "output_type": "stream",
     "text": [
      "IRENE\n",
      "SEULGI\n",
      "WENDY\n",
      "JOY\n",
      "YERI\n"
     ]
    }
   ],
   "source": [
    "#while loop\n",
    "\n",
    "thisis_redvelvet = (\"IRENE\", \"SEULGI\", \"WENDY\", \"JOY\", \"YERI\")\n",
    "i = 0\n",
    "while i < len(thisis_redvelvet):\n",
    "  print(thisis_redvelvet[i])\n",
    "  i = i + 1"
   ]
  },
  {
   "cell_type": "code",
   "execution_count": 17,
   "metadata": {},
   "outputs": [
    {
     "name": "stdout",
     "output_type": "stream",
     "text": [
      "('TEN', 'WINWIN', 'MARK', 'JENO', 'HAECHAN', 'YANGYANG', 'SUNGCHAN', 'TAEYONG', 'DOYOUNG', 'JAEHYUN', 'LUCAS', 'XIAOJUN', 'JAEMIN')\n"
     ]
    }
   ],
   "source": [
    "#joining tuples\n",
    "\n",
    "thisis_90slove = (\"TEN\", \"WINWIN\", \"MARK\", \"JENO\", \"HAECHAN\", \"YANGYANG\", \"SUNGCHAN\")\n",
    "make_a_wish = (\"TAEYONG\", \"DOYOUNG\", \"JAEHYUN\", \"LUCAS\", \"XIAOJUN\", \"JAEMIN\")\n",
    "\n",
    "resonance_title_track = thisis_90slove + make_a_wish\n",
    "\n",
    "print(resonance_title_track)"
   ]
  }
 ],
 "metadata": {
  "kernelspec": {
   "display_name": "Python 3.10.7 64-bit",
   "language": "python",
   "name": "python3"
  },
  "language_info": {
   "codemirror_mode": {
    "name": "ipython",
    "version": 3
   },
   "file_extension": ".py",
   "mimetype": "text/x-python",
   "name": "python",
   "nbconvert_exporter": "python",
   "pygments_lexer": "ipython3",
   "version": "3.10.7"
  },
  "orig_nbformat": 4,
  "vscode": {
   "interpreter": {
    "hash": "58837b1b657ea91009af8409fc244ae3b5ccf93ea980d6fb6b80adc5f697f4cc"
   }
  }
 },
 "nbformat": 4,
 "nbformat_minor": 2
}
