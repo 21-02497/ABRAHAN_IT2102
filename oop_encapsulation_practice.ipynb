{
 "cells": [
  {
   "cell_type": "code",
   "execution_count": 1,
   "metadata": {},
   "outputs": [],
   "source": [
    "class SM_TOWN:\n",
    "    def __init__(employee_type):\n",
    "        employee_type.exec_producer = \"LEE SOOMAN\"\n",
    "        employee_type._artist_gg1 = \"Girls' Generation\"\n",
    "        employee_type.__artist_gg2 = \"f(x)\"\n",
    "\n",
    "agency = SM_TOWN()"
   ]
  },
  {
   "cell_type": "code",
   "execution_count": 2,
   "metadata": {},
   "outputs": [
    {
     "name": "stdout",
     "output_type": "stream",
     "text": [
      "LEE SOOMAN\n"
     ]
    }
   ],
   "source": [
    "print(agency.exec_producer)"
   ]
  },
  {
   "cell_type": "code",
   "execution_count": 4,
   "metadata": {},
   "outputs": [
    {
     "name": "stdout",
     "output_type": "stream",
     "text": [
      "Girls' Generation\n"
     ]
    }
   ],
   "source": [
    "print(agency._artist_gg1)"
   ]
  },
  {
   "cell_type": "code",
   "execution_count": 11,
   "metadata": {},
   "outputs": [
    {
     "ename": "AttributeError",
     "evalue": "'SM_TOWN' object has no attribute '__artist_gg2'",
     "output_type": "error",
     "traceback": [
      "\u001b[1;31m---------------------------------------------------------------------------\u001b[0m",
      "\u001b[1;31mAttributeError\u001b[0m                            Traceback (most recent call last)",
      "Cell \u001b[1;32mIn [11], line 1\u001b[0m\n\u001b[1;32m----> 1\u001b[0m \u001b[39mprint\u001b[39m(agency\u001b[39m.\u001b[39;49m__artist_gg2)\n",
      "\u001b[1;31mAttributeError\u001b[0m: 'SM_TOWN' object has no attribute '__artist_gg2'"
     ]
    }
   ],
   "source": [
    "print(agency.__artist_gg2)"
   ]
  },
  {
   "cell_type": "code",
   "execution_count": 43,
   "metadata": {},
   "outputs": [],
   "source": [
    "class feel_my_rhythm():\n",
    "    def __init__(version):\n",
    "        version.__a = \"Orgel\"\n",
    "\n",
    "    def getVersion(version):\n",
    "        print(version.__a)\n",
    "    \n",
    "    def setVersion(version, a):\n",
    "        version.__a = a"
   ]
  },
  {
   "cell_type": "code",
   "execution_count": 53,
   "metadata": {},
   "outputs": [
    {
     "name": "stdout",
     "output_type": "stream",
     "text": [
      "Orgel\n",
      "Calmato\n"
     ]
    },
    {
     "ename": "AttributeError",
     "evalue": "'feel_my_rhythm' object has no attribute '__a'",
     "output_type": "error",
     "traceback": [
      "\u001b[1;31m---------------------------------------------------------------------------\u001b[0m",
      "\u001b[1;31mAttributeError\u001b[0m                            Traceback (most recent call last)",
      "Cell \u001b[1;32mIn [53], line 5\u001b[0m\n\u001b[0;32m      3\u001b[0m album\u001b[39m.\u001b[39msetVersion(\u001b[39m\"\u001b[39m\u001b[39mCalmato\u001b[39m\u001b[39m\"\u001b[39m)\n\u001b[0;32m      4\u001b[0m album\u001b[39m.\u001b[39mgetVersion()\n\u001b[1;32m----> 5\u001b[0m \u001b[39mprint\u001b[39m(album\u001b[39m.\u001b[39;49m__a)\n",
      "\u001b[1;31mAttributeError\u001b[0m: 'feel_my_rhythm' object has no attribute '__a'"
     ]
    }
   ],
   "source": [
    "album = feel_my_rhythm()\n",
    "album.getVersion()\n",
    "album.setVersion(\"Calmato\")\n",
    "album.getVersion()\n",
    "print(album.__a)"
   ]
  }
 ],
 "metadata": {
  "kernelspec": {
   "display_name": "Python 3.10.7 64-bit",
   "language": "python",
   "name": "python3"
  },
  "language_info": {
   "codemirror_mode": {
    "name": "ipython",
    "version": 3
   },
   "file_extension": ".py",
   "mimetype": "text/x-python",
   "name": "python",
   "nbconvert_exporter": "python",
   "pygments_lexer": "ipython3",
   "version": "3.10.7"
  },
  "orig_nbformat": 4,
  "vscode": {
   "interpreter": {
    "hash": "58837b1b657ea91009af8409fc244ae3b5ccf93ea980d6fb6b80adc5f697f4cc"
   }
  }
 },
 "nbformat": 4,
 "nbformat_minor": 2
}
