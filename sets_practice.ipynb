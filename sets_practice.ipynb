{
 "cells": [
  {
   "cell_type": "code",
   "execution_count": 1,
   "metadata": {},
   "outputs": [
    {
     "name": "stdout",
     "output_type": "stream",
     "text": [
      "{'KUN', 'WINWIN', 'XIAOJUN', 'TEN', 'YANGYANG', 'LUCAS', 'HENDERY'}\n"
     ]
    }
   ],
   "source": [
    "#set\n",
    "\n",
    "thisis_wayv = {\"KUN\", \"TEN\", \"WINWIN\", \"LUCAS\", \"XIAOJUN\", \"HENDERY\", \"YANGYANG\"}\n",
    "print(thisis_wayv)"
   ]
  },
  {
   "cell_type": "code",
   "execution_count": 2,
   "metadata": {},
   "outputs": [
    {
     "name": "stdout",
     "output_type": "stream",
     "text": [
      "7\n"
     ]
    }
   ],
   "source": [
    "#set length\n",
    "\n",
    "thisis_wayv = {\"KUN\", \"TEN\", \"WINWIN\", \"LUCAS\", \"XIAOJUN\", \"HENDERY\", \"YANGYANG\"}\n",
    "print(len(thisis_wayv))"
   ]
  },
  {
   "cell_type": "code",
   "execution_count": 4,
   "metadata": {},
   "outputs": [
    {
     "name": "stdout",
     "output_type": "stream",
     "text": [
      "YUJIN\n",
      "GAEUL\n",
      "LIZ\n",
      "REI\n",
      "LEESEO\n",
      "WONYOUNG\n"
     ]
    }
   ],
   "source": [
    "thisis_ive = {\"GAEUL\", \"YUJIN\", \"REI\", \"WONYOUNG\", \"LIZ\", \"LEESEO\"}\n",
    "\n",
    "for x in thisis_ive:\n",
    "    print(x)"
   ]
  },
  {
   "cell_type": "code",
   "execution_count": 5,
   "metadata": {},
   "outputs": [
    {
     "name": "stdout",
     "output_type": "stream",
     "text": [
      "{'IRENE', 'YERI', 'SEULGI', 'WENDY', 'JOY'}\n"
     ]
    }
   ],
   "source": [
    "thisis_redvelvet = {\"IRENE\", \"SEULGI\", \"WENDY\", \"JOY\"}\n",
    "thisis_redvelvet.add(\"YERI\")\n",
    "\n",
    "print(thisis_redvelvet)"
   ]
  },
  {
   "cell_type": "code",
   "execution_count": 6,
   "metadata": {},
   "outputs": [
    {
     "name": "stdout",
     "output_type": "stream",
     "text": [
      "{'CHAEWON', 'NAKO', 'MINJU', 'CHAEYEON', 'HYEWON', 'WONYOUNG', 'YUJIN', 'EUNBI', 'YURI', 'HITOMI', 'SAKURA', 'YENA'}\n"
     ]
    }
   ],
   "source": [
    "iz_one = {\"EUNBI\", \"SAKURA\", \"HYEWON\", \"YENA\", \"CHAEYEON\", \"CHAEWON\"}\n",
    "iz_one_maknae_line = {\"MINJU\", \"NAKO\", \"HITOMI\", \"YURI\", \"YUJIN\", \"WONYOUNG\"}\n",
    "\n",
    "iz_one.update(iz_one_maknae_line)\n",
    "print(iz_one)"
   ]
  },
  {
   "cell_type": "code",
   "execution_count": 8,
   "metadata": {},
   "outputs": [
    {
     "name": "stdout",
     "output_type": "stream",
     "text": [
      "{'WINWIN', 'TEN', 'HAECHAN', 'TAEYONG', 'YANGYANG', 'LUCAS', 'SHOTARO', 'JAEHYUN', 'SUNGCHAN', 'JENO', 'MARK', 'XIAOJUN', 'DOYOUNG', 'JAEMIN'}\n"
     ]
    }
   ],
   "source": [
    "make_a_wish = {\"TAEYONG\", \"DOYOUNG\", \"JAEHYUN\", \"LUCAS\", \"XIAOJUN\", \"JAEMIN\", \"SHOTARO\"}\n",
    "_90slove = [\"TEN\", \"WINWIN\", \"MARK\", \"JENO\", \"HAECHAN\", \"YANGYANG\", \"SUNGCHAN\"]\n",
    "\n",
    "make_a_wish.update(_90slove)\n",
    "print(make_a_wish)"
   ]
  },
  {
   "cell_type": "code",
   "execution_count": 9,
   "metadata": {},
   "outputs": [
    {
     "name": "stdout",
     "output_type": "stream",
     "text": [
      "{'JAEHYUN', 'LUCAS', 'XIAOJUN', 'DOYOUNG', 'JAEMIN', 'SHOTARO'}\n"
     ]
    }
   ],
   "source": [
    "make_a_wish = {\"TAEYONG\", \"DOYOUNG\", \"JAEHYUN\", \"LUCAS\", \"XIAOJUN\", \"JAEMIN\", \"SHOTARO\"}\n",
    "make_a_wish.remove(\"TAEYONG\")\n",
    "\n",
    "print(make_a_wish)"
   ]
  },
  {
   "cell_type": "code",
   "execution_count": 11,
   "metadata": {},
   "outputs": [
    {
     "name": "stdout",
     "output_type": "stream",
     "text": [
      "{'JAEHYUN', 'LUCAS', 'XIAOJUN', 'DOYOUNG', 'JAEMIN', 'SHOTARO'}\n"
     ]
    }
   ],
   "source": [
    "make_a_wish = {\"TAEYONG\", \"DOYOUNG\", \"JAEHYUN\", \"LUCAS\", \"XIAOJUN\", \"JAEMIN\", \"SHOTARO\"}\n",
    "make_a_wish.discard(\"TAEYONG\")\n",
    "\n",
    "print(make_a_wish)"
   ]
  },
  {
   "cell_type": "code",
   "execution_count": 15,
   "metadata": {},
   "outputs": [
    {
     "name": "stdout",
     "output_type": "stream",
     "text": [
      "JUNGWOO\n",
      "{'JOHNNY', 'TEN', 'YUTA', 'JISUNG', 'JAEMIN', 'HENDERY'}\n"
     ]
    }
   ],
   "source": [
    "work_it = {\"JOHNNY\", \"YUTA\", \"TEN\", \"JUNGWOO\", \"HENDERY\", \"JAEMIN\", \"JISUNG\"}\n",
    "injured_member = work_it.pop()\n",
    "\n",
    "print(injured_member)\n",
    "print(work_it)"
   ]
  },
  {
   "cell_type": "code",
   "execution_count": 17,
   "metadata": {},
   "outputs": [
    {
     "name": "stdout",
     "output_type": "stream",
     "text": [
      "set()\n"
     ]
    }
   ],
   "source": [
    "work_it = {\"JOHNNY\", \"YUTA\", \"TEN\", \"JUNGWOO\", \"HENDERY\", \"JAEMIN\", \"JISUNG\"}\n",
    "work_it.clear()\n",
    "\n",
    "print(work_it)"
   ]
  },
  {
   "cell_type": "code",
   "execution_count": null,
   "metadata": {},
   "outputs": [],
   "source": []
  }
 ],
 "metadata": {
  "kernelspec": {
   "display_name": "Python 3.10.7 64-bit",
   "language": "python",
   "name": "python3"
  },
  "language_info": {
   "codemirror_mode": {
    "name": "ipython",
    "version": 3
   },
   "file_extension": ".py",
   "mimetype": "text/x-python",
   "name": "python",
   "nbconvert_exporter": "python",
   "pygments_lexer": "ipython3",
   "version": "3.10.7"
  },
  "orig_nbformat": 4,
  "vscode": {
   "interpreter": {
    "hash": "58837b1b657ea91009af8409fc244ae3b5ccf93ea980d6fb6b80adc5f697f4cc"
   }
  }
 },
 "nbformat": 4,
 "nbformat_minor": 2
}
