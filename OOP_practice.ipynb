{
 "cells": [
  {
   "cell_type": "code",
   "execution_count": 1,
   "metadata": {},
   "outputs": [
    {
     "name": "stdout",
     "output_type": "stream",
     "text": [
      "Girls Generation - August 5, 2007\n",
      "Red Velvet - August 1, 2014\n",
      "Super Junior - November 6, 2005\n",
      "NCT - April 9, 2016\n"
     ]
    }
   ],
   "source": [
    "class SM_TOWN:\n",
    "    def __init__(artist, name, debut_date):\n",
    "        artist.name = name\n",
    "        artist.debut_date = debut_date\n",
    "    \n",
    "gg1 = SM_TOWN(\"Girls Generation\", \"August 5, 2007\")\n",
    "bg1 = SM_TOWN(\"Super Junior\", \"November 6, 2005\")\n",
    "gg2 = SM_TOWN(\"Red Velvet\", \"August 1, 2014\")\n",
    "bg2 = SM_TOWN(\"NCT\", \"April 9, 2016\")\n",
    "\n",
    "print(gg1.name + \" - \" + gg1.debut_date)\n",
    "print(gg2.name + \" - \" + gg2.debut_date)\n",
    "print(bg1.name + \" - \" + bg1.debut_date)\n",
    "print(bg2.name + \" - \" + bg2.debut_date)"
   ]
  },
  {
   "cell_type": "code",
   "execution_count": 3,
   "metadata": {},
   "outputs": [
    {
     "name": "stdout",
     "output_type": "stream",
     "text": [
      "TAEYONG - NCT 127 : MAIN RAPPER\n",
      "RENJUN - NCT DREAM : MAIN VOCAL\n",
      "TEN - WAYV : MAIN DANCER\n"
     ]
    }
   ],
   "source": [
    "class NCT:\n",
    "    def __init__(member, name, unit, position):\n",
    "        member.name = name\n",
    "        member.unit = unit\n",
    "        member.position = position\n",
    "\n",
    "    def member1(member):\n",
    "        print(member.name + \" - \" + member.unit + \" : \" + member.position)\n",
    "\n",
    "mem1 = NCT(\"TAEYONG\", \"NCT 127\", \"MAIN RAPPER\")\n",
    "mem2 = NCT(\"RENJUN\", \"NCT DREAM\", \"MAIN VOCAL\")\n",
    "mem3 = NCT(\"TEN\", \"WAYV\", \"MAIN DANCER\")\n",
    "\n",
    "mem1.member1()\n",
    "mem2.member1()\n",
    "mem3.member1()"
   ]
  },
  {
   "cell_type": "code",
   "execution_count": 6,
   "metadata": {},
   "outputs": [
    {
     "name": "stdout",
     "output_type": "stream",
     "text": [
      "WINWIN - NCT 127 / WAYV : SUB-VOCALIST\n",
      "MARK - NCT 127 / NCT DREAM : LEADER / MAIN RAPPER\n",
      "HAECHAN - NCT 127 / NCT DREAM : MAIN VOCALIST\n",
      "SHOTARO - NO UNIT! : MAIN DANCER\n",
      "SUNGCHAN - NO UNIT! : RAPPER\n"
     ]
    }
   ],
   "source": [
    "#Inheritance\n",
    "\n",
    "class NCT:\n",
    "    def __init__(member, name, unit, position):\n",
    "        member.name = name\n",
    "        member.unit = unit\n",
    "        member.position = position\n",
    "\n",
    "    def introducing(member):\n",
    "        print(member.name + \" - \" + member.unit + \" : \" + member.position)\n",
    "\n",
    "class nct_127(NCT):\n",
    "    pass\n",
    "\n",
    "class nct_dream(NCT):\n",
    "    pass\n",
    "\n",
    "class wayv(NCT):\n",
    "    pass\n",
    "\n",
    "class nct_u(NCT):\n",
    "    def __init__(member, name, unit, position):\n",
    "        super().__init__(name, unit, position)\n",
    "        super().introducing()\n",
    "\n",
    "mem1 = nct_127(\"TAEIL\", \"NCT 127\", \"MAIN VOCALIST\")\n",
    "mem2 = nct_127(\"JOHNNY\", \"NCT 127\", \"RAPPER\")\n",
    "mem4 = nct_127(\"YUTA\", \"NCT 127\", \"VOCALIST\")\n",
    "mem5 = wayv(\"KUN\", \"WAYV\", \"LEADER / MAIN VOCALIST\")\n",
    "mem6 = nct_127(\"DOYOUNG\", \"NCT 127\", \"MAIN VOCALIST\")\n",
    "mem7 = wayv(\"TEN\", \"WAYV\", \"MAIN DANCER\")\n",
    "mem8 = nct_127(\"JAEHYUN\", \"NCT 127\", \"VOCALIST / VISUAL\")\n",
    "mem9 = nct_u(\"WINWIN\", \"NCT 127 / WAYV\", \"SUB-VOCALIST\")\n",
    "mem10 = nct_127(\"JUNGWOO\", \"NCT 127\", \"VOCALIST\")\n",
    "mem11 = wayv(\"LUCAS\", \"WAYV\", \"RAPPER\")\n",
    "mem12 = nct_u(\"MARK\", \"NCT 127 / NCT DREAM\", \"LEADER / MAIN RAPPER\")\n",
    "mem13 = wayv(\"XIAOJUN\", \"WAYV\", \"MAIN VOCALIST\")\n",
    "mem14 = wayv(\"HENDERY\", \"WAYV\", \"LEAD RAPPER\")\n",
    "mem15 = nct_dream(\"RENJUN\", \"NCT DREAM\", \"MAIN VOCALIST\")\n",
    "mem16 = nct_dream(\"JENO\", \"NCT_DREAM\", \"LEAD RAPPER\")\n",
    "mem17 = nct_u(\"HAECHAN\", \"NCT 127 / NCT DREAM\", \"MAIN VOCALIST\")\n",
    "mem18 = nct_dream(\"JAEMIN\", \"NCT DREAM\", \"RAPPER\")\n",
    "mem19 = wayv(\"YANGYANG\", \"WAYV\", \"LEAD RAPPER\")\n",
    "mem20 = nct_u(\"SHOTARO\", \"NO UNIT!\", \"MAIN DANCER\")\n",
    "mem21 = nct_u(\"SUNGCHAN\", \"NO UNIT!\", \"RAPPER\")\n",
    "mem22 = nct_dream(\"CHENLE\", \"NCT DREAM\", \"LEAD VOCALIST\")\n",
    "mem23 = nct_dream(\"JISUNG\", \"NCT DREAM\", \"MAIN DANCER\")"
   ]
  },
  {
   "cell_type": "code",
   "execution_count": 9,
   "metadata": {},
   "outputs": [
    {
     "name": "stdout",
     "output_type": "stream",
     "text": [
      "Group/Artist: Girls Generation\n",
      "Debut Date: August 5, 2007\n",
      "Debut Song: Into the New World\n",
      "Latest Comeback: FOREVER 1\n",
      "----------OTHER INFO---------\n",
      "Soloists:\n",
      "TAEYEON\n",
      "HYOYEON\n",
      "\n",
      "\n",
      "Group/Artist: f(x)\n",
      "Debut Date: September 7, 2009\n",
      "Debut Song: LA chA TA\n",
      "MEMBERS CONTRACT EXPIRED!\n",
      "\n",
      "\n",
      "Group/Artist: Red Velvet\n",
      "Debut Date: August 1, 2014\n",
      "Debut Song: Happiness\n",
      "Latest Comeback: Feel My Rhythm\n",
      "----------OTHER INFO---------\n",
      "Soloists:\n",
      "SEULGI\n",
      "WENDY\n",
      "JOY\n",
      "Sub-unit/s: IRENE & SEULGI\n",
      "\n",
      "\n",
      "Group/Artist: aespa\n",
      "Debut Date: November 17, 2020\n",
      "Debut Song: Black Mamba\n",
      "Latest Comeback: Girls\n"
     ]
    }
   ],
   "source": [
    "class SM_TOWN:\n",
    "    def __init__(artist, name, debut_date, debut_song):\n",
    "        artist.name = name\n",
    "        artist.debut_date = debut_date\n",
    "        artist.debut_song = debut_song\n",
    "\n",
    "    def profile(artist):\n",
    "        print(\"Group/Artist: \" + artist.name)\n",
    "        print(\"Debut Date: \" + artist.debut_date)\n",
    "        print(\"Debut Song: \" + artist.debut_song)\n",
    "\n",
    "class Girls_Generation(SM_TOWN):\n",
    "    def __init__(artist, name, debut_date, debut_song, latest_release, *soloists):\n",
    "        super().__init__(name, debut_date, debut_song)\n",
    "        artist.soloists = soloists\n",
    "        artist.latest_release = latest_release\n",
    "        super().profile()\n",
    "        print(\"Latest Comeback: \" + artist.latest_release)\n",
    "        print(\"----------OTHER INFO---------\")\n",
    "        print(\"Soloists:\")\n",
    "\n",
    "        for names in artist.soloists:\n",
    "            print(names)\n",
    "\n",
    "class f_x(SM_TOWN):\n",
    "    def __init__(artist, name, debut_date, debut_song):\n",
    "        super().__init__(name, debut_date, debut_song)\n",
    "        super().profile()\n",
    "        print(\"MEMBERS CONTRACT EXPIRED!\")\n",
    "\n",
    "class Red_Velvet(Girls_Generation):\n",
    "    def __init__(artist, name, debut_date, debut_song, latest_release, *soloists, sub_units):\n",
    "        super().__init__(name, debut_date, debut_song, latest_release, *soloists)\n",
    "        artist.sub_units = sub_units\n",
    "        print(\"Sub-unit/s: \" + artist.sub_units)\n",
    "\n",
    "class aespa(SM_TOWN):\n",
    "    def __init__(artist, name, debut_date, debut_song, latest_release):\n",
    "        super().__init__(name, debut_date, debut_song)\n",
    "        artist.latest_release = latest_release\n",
    "        super().profile()\n",
    "        print(\"Latest Comeback: \" + artist.latest_release)\n",
    "\n",
    "gg1 = Girls_Generation(\"Girls Generation\", \"August 5, 2007\", \"Into the New World\", \"FOREVER 1\", \"TAEYEON\", \"HYOYEON\")\n",
    "print(\"\\n\")\n",
    "gg2 = f_x(\"f(x)\", \"September 7, 2009\", \"LA chA TA\")\n",
    "print(\"\\n\")\n",
    "gg3 = Red_Velvet(\"Red Velvet\", \"August 1, 2014\", \"Happiness\", \"Feel My Rhythm\", \"SEULGI\", \"WENDY\", \"JOY\", sub_units = \"IRENE & SEULGI\")\n",
    "print(\"\\n\")\n",
    "gg4 = aespa(\"aespa\", \"November 17, 2020\", \"Black Mamba\", \"Girls\")\n"
   ]
  }
 ],
 "metadata": {
  "kernelspec": {
   "display_name": "Python 3.10.7 64-bit",
   "language": "python",
   "name": "python3"
  },
  "language_info": {
   "codemirror_mode": {
    "name": "ipython",
    "version": 3
   },
   "file_extension": ".py",
   "mimetype": "text/x-python",
   "name": "python",
   "nbconvert_exporter": "python",
   "pygments_lexer": "ipython3",
   "version": "3.10.7"
  },
  "orig_nbformat": 4,
  "vscode": {
   "interpreter": {
    "hash": "58837b1b657ea91009af8409fc244ae3b5ccf93ea980d6fb6b80adc5f697f4cc"
   }
  }
 },
 "nbformat": 4,
 "nbformat_minor": 2
}
