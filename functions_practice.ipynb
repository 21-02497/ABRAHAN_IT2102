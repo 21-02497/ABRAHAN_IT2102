{
 "cells": [
  {
   "cell_type": "code",
   "execution_count": 1,
   "metadata": {},
   "outputs": [
    {
     "data": {
      "text/plain": [
       "<function __main__.my_happiness()>"
      ]
     },
     "execution_count": 1,
     "metadata": {},
     "output_type": "execute_result"
    }
   ],
   "source": [
    "def my_happiness():\n",
    "    print(\"Red Velvet\")\n",
    "\n",
    "my_happiness"
   ]
  },
  {
   "cell_type": "code",
   "execution_count": 2,
   "metadata": {},
   "outputs": [
    {
     "name": "stdout",
     "output_type": "stream",
     "text": [
      "WENDY of Red Velvet\n"
     ]
    }
   ],
   "source": [
    "def my_happiness(bias):\n",
    "    print(bias + \" of Red Velvet\")\n",
    "\n",
    "my_happiness(\"WENDY\")"
   ]
  },
  {
   "cell_type": "code",
   "execution_count": 3,
   "metadata": {},
   "outputs": [
    {
     "name": "stdout",
     "output_type": "stream",
     "text": [
      "WENDY & IRENE\n"
     ]
    }
   ],
   "source": [
    "def my_happiness(bias, bias_wreck):\n",
    "    print(bias + \" & \" + bias_wreck)\n",
    "\n",
    "my_happiness(\"WENDY\", \"IRENE\")"
   ]
  },
  {
   "cell_type": "code",
   "execution_count": 8,
   "metadata": {},
   "outputs": [
    {
     "name": "stdout",
     "output_type": "stream",
     "text": [
      "The maknae is YERI\n"
     ]
    }
   ],
   "source": [
    "def my_happiness(*red_velvet):\n",
    "    print(\"The maknae is \" + red_velvet[4])\n",
    "\n",
    "my_happiness(\"IRENE\", \"SEULGI\", \"WENDY\", \"JOY\", \"YERI\")"
   ]
  },
  {
   "cell_type": "code",
   "execution_count": 10,
   "metadata": {},
   "outputs": [
    {
     "name": "stdout",
     "output_type": "stream",
     "text": [
      "My youngest bias is WONYOUNG\n"
     ]
    }
   ],
   "source": [
    "def my_happiness(bias1, bias2, bias3):\n",
    "    print(\"My youngest bias is \" + bias3)\n",
    "\n",
    "my_happiness(bias1 = \"WENDY\", bias2 = \"MARK\", bias3 = \"WONYOUNG\")"
   ]
  },
  {
   "cell_type": "code",
   "execution_count": 11,
   "metadata": {},
   "outputs": [
    {
     "name": "stdout",
     "output_type": "stream",
     "text": [
      "MARK\n"
     ]
    }
   ],
   "source": [
    "def my_happiness(**bias):\n",
    "    print(bias[\"nct\"])\n",
    "\n",
    "my_happiness(red_velvet = \"WENDY\", nct = \"MARK\", ive = \"WONYOUNG\")"
   ]
  },
  {
   "cell_type": "code",
   "execution_count": 12,
   "metadata": {},
   "outputs": [
    {
     "name": "stdout",
     "output_type": "stream",
     "text": [
      "I love SAKURA\n",
      "I love WONYOUNG\n",
      "I love WENDY\n"
     ]
    }
   ],
   "source": [
    "def my_happiness(bias = \"WENDY\"):\n",
    "    print(\"I love \" + bias)\n",
    "\n",
    "my_happiness(\"SAKURA\")\n",
    "my_happiness(\"WONYOUNG\")\n",
    "my_happiness()"
   ]
  },
  {
   "cell_type": "code",
   "execution_count": 13,
   "metadata": {},
   "outputs": [
    {
     "name": "stdout",
     "output_type": "stream",
     "text": [
      "IRENE\n",
      "SEULGI\n",
      "WENDY\n",
      "JOY\n",
      "YERI\n"
     ]
    }
   ],
   "source": [
    "def my_happiness(ult):\n",
    "    for x in ult:\n",
    "        print(x)\n",
    "\n",
    "red_velvet = [\"IRENE\", \"SEULGI\", \"WENDY\", \"JOY\", \"YERI\"]\n",
    "my_happiness(red_velvet)\n"
   ]
  },
  {
   "cell_type": "code",
   "execution_count": 16,
   "metadata": {},
   "outputs": [
    {
     "data": {
      "text/plain": [
       "'Feel My Rhythym'"
      ]
     },
     "execution_count": 16,
     "metadata": {},
     "output_type": "execute_result"
    }
   ],
   "source": [
    "def trippings(song):\n",
    "    return song\n",
    "\n",
    "trippings(\"Feel My Rhythym\")"
   ]
  },
  {
   "cell_type": "code",
   "execution_count": 19,
   "metadata": {},
   "outputs": [
    {
     "name": "stdout",
     "output_type": "stream",
     "text": [
      "1\n",
      "3\n",
      "6\n",
      "10\n",
      "15\n",
      "21\n",
      "28\n"
     ]
    },
    {
     "data": {
      "text/plain": [
       "28"
      ]
     },
     "execution_count": 19,
     "metadata": {},
     "output_type": "execute_result"
    }
   ],
   "source": [
    "def nitry_recursion(x):\n",
    "    if(x > 0):\n",
    "        result = x + nitry_recursion(x - 1)\n",
    "        print(result)\n",
    "    else:\n",
    "        result = 0\n",
    "    return result\n",
    "\n",
    "nitry_recursion(7)"
   ]
  }
 ],
 "metadata": {
  "kernelspec": {
   "display_name": "Python 3.10.7 64-bit",
   "language": "python",
   "name": "python3"
  },
  "language_info": {
   "codemirror_mode": {
    "name": "ipython",
    "version": 3
   },
   "file_extension": ".py",
   "mimetype": "text/x-python",
   "name": "python",
   "nbconvert_exporter": "python",
   "pygments_lexer": "ipython3",
   "version": "3.10.7"
  },
  "orig_nbformat": 4,
  "vscode": {
   "interpreter": {
    "hash": "58837b1b657ea91009af8409fc244ae3b5ccf93ea980d6fb6b80adc5f697f4cc"
   }
  }
 },
 "nbformat": 4,
 "nbformat_minor": 2
}
